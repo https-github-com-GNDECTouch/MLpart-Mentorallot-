{
 "cells": [
  {
   "cell_type": "code",
   "execution_count": 1,
   "id": "eeb0c872",
   "metadata": {},
   "outputs": [],
   "source": [
    "import pandas as pd\n",
    "from sklearn.cluster import KMeans\n",
    "import tensorflow as tf\n",
    "import numpy as np"
   ]
  },
  {
   "cell_type": "code",
   "execution_count": 2,
   "id": "4295aed1",
   "metadata": {},
   "outputs": [],
   "source": [
    "# Load student and teacher data from CSV files\n",
    "students_df = pd.read_csv('students.csv')\n",
    "teachers_df = pd.read_csv('teachers.csv')\n"
   ]
  },
  {
   "cell_type": "code",
   "execution_count": 3,
   "id": "dacae3a3",
   "metadata": {},
   "outputs": [],
   "source": [
    "# Combine interests and CGPA into a single feature vector for clustering\n",
    "student_features = students_df[['CGPA']].values"
   ]
  },
  {
   "cell_type": "code",
   "execution_count": 4,
   "id": "b9a31ea1",
   "metadata": {},
   "outputs": [],
   "source": [
    "# Define the number of clusters (teachers)\n",
    "num_clusters = len(teachers_df)"
   ]
  },
  {
   "cell_type": "code",
   "execution_count": 5,
   "id": "2df16d13",
   "metadata": {},
   "outputs": [],
   "source": [
    "# Create a KMeans clustering model\n",
    "kmeans = KMeans(n_clusters=num_clusters, n_init=10, random_state=0).fit(student_features)"
   ]
  },
  {
   "cell_type": "code",
   "execution_count": 6,
   "id": "c4f9e6d1",
   "metadata": {},
   "outputs": [],
   "source": [
    "# Assign each student to a cluster (teacher)\n",
    "students_df['Cluster'] = kmeans.labels_"
   ]
  },
  {
   "cell_type": "code",
   "execution_count": 7,
   "id": "e7f4581c",
   "metadata": {},
   "outputs": [],
   "source": [
    "# Initialize teacher assignments\n",
    "teacher_assignments = {teacher: [] for teacher in teachers_df['Teacher_name']}"
   ]
  },
  {
   "cell_type": "code",
   "execution_count": 8,
   "id": "e418a6d3",
   "metadata": {},
   "outputs": [],
   "source": [
    "# Iterate through students and assign them to the nearest matching teacher\n",
    "for _, student in students_df.iterrows():\n",
    "    cluster_label = student['Cluster']\n",
    "    teacher_name = teachers_df.iloc[cluster_label]['Teacher_name']\n",
    "    student_name = student['Student_name']\n",
    "    cgpa = student['CGPA']\n",
    "    teacher_assignments[teacher_name].append((student_name, cgpa))"
   ]
  },
  {
   "cell_type": "code",
   "execution_count": 9,
   "id": "bfdb7753",
   "metadata": {},
   "outputs": [
    {
     "name": "stdout",
     "output_type": "stream",
     "text": [
      "Teacher: Pankaj\n",
      "  Student: Lucas Cooper, CGPA: 6.3\n",
      "  Student: Charlotte Hayes, CGPA: 6.2\n",
      "  Student: Caleb Smith, CGPA: 6.3\n",
      "  Student: Daniel Robinson, CGPA: 7.8\n",
      "  Student: Chloe Moore, CGPA: 7.6\n",
      "Teacher: Amit\n",
      "  Student: Ethan Turner, CGPA: 8.4\n",
      "  Student: Sophia Jenkins, CGPA: 8.2\n",
      "  Student: Mia Nelson, CGPA: 6.5\n",
      "  Student: Oliver Rivera, CGPA: 8.2\n",
      "  Student: Harper Gray, CGPA: 8.3\n",
      "  Student: Henry Martinez, CGPA: 6.7\n",
      "Teacher: Akshay\n",
      "  Student: Olivia Bennett, CGPA: 9.4\n",
      "  Student: Emma Parker, CGPA: 9.5\n",
      "  Student: Noah Harrison, CGPA: 9.6\n",
      "  Student: Amelia Reed, CGPA: 8.8\n",
      "  Student: Elijah Brooks, CGPA: 9.4\n",
      "  Student: Benjamin Wright, CGPA: 8.6\n",
      "  Student: Scarlett Adams, CGPA: 9.4\n",
      "Teacher: Sachin\n",
      "  Student: Ava Mitchell, CGPA: 8.0\n",
      "  Student: Mason Foster, CGPA: 8.1\n",
      "  Student: Jackson Walker, CGPA: 7.2\n",
      "  Student: Abigail Simmons, CGPA: 7.3\n",
      "  Student: Evelyn Taylor, CGPA: 7.2\n",
      "  Student: Samuel Davis, CGPA: 7.9\n",
      "  Student: Lily Johnson, CGPA: 8.1\n",
      "Teacher: Ranjodh\n",
      "  Student: Liam Anderson, CGPA: 9.2\n",
      "  Student: Isabella Murphy, CGPA: 9.0\n",
      "  Student: Aiden Carter, CGPA: 7.0\n",
      "  Student: Grace White, CGPA: 9.1\n",
      "  Student: Logan Harris, CGPA: 9.0\n"
     ]
    }
   ],
   "source": [
    "# Print the assignments with teacher name, student name, and CGPA\n",
    "for teacher, students in teacher_assignments.items():\n",
    "    print(f\"Teacher: {teacher}\")\n",
    "    for student, cgpa in students:\n",
    "        print(f\"  Student: {student}, CGPA: {cgpa}\")"
   ]
  },
  {
   "cell_type": "code",
   "execution_count": 10,
   "id": "70ac30f6",
   "metadata": {},
   "outputs": [
    {
     "ename": "AttributeError",
     "evalue": "'KMeans' object has no attribute 'call'",
     "output_type": "error",
     "traceback": [
      "\u001b[1;31m---------------------------------------------------------------------------\u001b[0m",
      "\u001b[1;31mAttributeError\u001b[0m                            Traceback (most recent call last)",
      "Cell \u001b[1;32mIn[10], line 4\u001b[0m\n\u001b[0;32m      2\u001b[0m kmeans_model \u001b[38;5;241m=\u001b[39m kmeans\n\u001b[0;32m      3\u001b[0m converter \u001b[38;5;241m=\u001b[39m tf\u001b[38;5;241m.\u001b[39mlite\u001b[38;5;241m.\u001b[39mTFLiteConverter\u001b[38;5;241m.\u001b[39mfrom_keras_model(kmeans_model)\n\u001b[1;32m----> 4\u001b[0m tflite_model \u001b[38;5;241m=\u001b[39m \u001b[43mconverter\u001b[49m\u001b[38;5;241;43m.\u001b[39;49m\u001b[43mconvert\u001b[49m\u001b[43m(\u001b[49m\u001b[43m)\u001b[49m\n\u001b[0;32m      6\u001b[0m \u001b[38;5;66;03m# Save the TFLite model to a file\u001b[39;00m\n\u001b[0;32m      7\u001b[0m \u001b[38;5;28;01mwith\u001b[39;00m \u001b[38;5;28mopen\u001b[39m(\u001b[38;5;124m'\u001b[39m\u001b[38;5;124mkmeans_model.tflite\u001b[39m\u001b[38;5;124m'\u001b[39m, \u001b[38;5;124m'\u001b[39m\u001b[38;5;124mwb\u001b[39m\u001b[38;5;124m'\u001b[39m) \u001b[38;5;28;01mas\u001b[39;00m f:\n",
      "File \u001b[1;32m~\\AppData\\Local\\Programs\\Python\\Python310\\lib\\site-packages\\tensorflow\\lite\\python\\lite.py:962\u001b[0m, in \u001b[0;36m_export_metrics.<locals>.wrapper\u001b[1;34m(self, *args, **kwargs)\u001b[0m\n\u001b[0;32m    959\u001b[0m \u001b[38;5;129m@functools\u001b[39m\u001b[38;5;241m.\u001b[39mwraps(convert_func)\n\u001b[0;32m    960\u001b[0m \u001b[38;5;28;01mdef\u001b[39;00m \u001b[38;5;21mwrapper\u001b[39m(\u001b[38;5;28mself\u001b[39m, \u001b[38;5;241m*\u001b[39margs, \u001b[38;5;241m*\u001b[39m\u001b[38;5;241m*\u001b[39mkwargs):\n\u001b[0;32m    961\u001b[0m   \u001b[38;5;66;03m# pylint: disable=protected-access\u001b[39;00m\n\u001b[1;32m--> 962\u001b[0m   \u001b[38;5;28;01mreturn\u001b[39;00m \u001b[38;5;28mself\u001b[39m\u001b[38;5;241m.\u001b[39m_convert_and_export_metrics(convert_func, \u001b[38;5;241m*\u001b[39margs, \u001b[38;5;241m*\u001b[39m\u001b[38;5;241m*\u001b[39mkwargs)\n",
      "File \u001b[1;32m~\\AppData\\Local\\Programs\\Python\\Python310\\lib\\site-packages\\tensorflow\\lite\\python\\lite.py:940\u001b[0m, in \u001b[0;36mTFLiteConverterBase._convert_and_export_metrics\u001b[1;34m(self, convert_func, *args, **kwargs)\u001b[0m\n\u001b[0;32m    938\u001b[0m \u001b[38;5;28mself\u001b[39m\u001b[38;5;241m.\u001b[39m_save_conversion_params_metric()\n\u001b[0;32m    939\u001b[0m start_time \u001b[38;5;241m=\u001b[39m time\u001b[38;5;241m.\u001b[39mprocess_time()\n\u001b[1;32m--> 940\u001b[0m result \u001b[38;5;241m=\u001b[39m convert_func(\u001b[38;5;28mself\u001b[39m, \u001b[38;5;241m*\u001b[39margs, \u001b[38;5;241m*\u001b[39m\u001b[38;5;241m*\u001b[39mkwargs)\n\u001b[0;32m    941\u001b[0m elapsed_time_ms \u001b[38;5;241m=\u001b[39m (time\u001b[38;5;241m.\u001b[39mprocess_time() \u001b[38;5;241m-\u001b[39m start_time) \u001b[38;5;241m*\u001b[39m \u001b[38;5;241m1000\u001b[39m\n\u001b[0;32m    942\u001b[0m \u001b[38;5;28;01mif\u001b[39;00m result:\n",
      "File \u001b[1;32m~\\AppData\\Local\\Programs\\Python\\Python310\\lib\\site-packages\\tensorflow\\lite\\python\\lite.py:1378\u001b[0m, in \u001b[0;36mTFLiteKerasModelConverterV2.convert\u001b[1;34m(self)\u001b[0m\n\u001b[0;32m   1374\u001b[0m \u001b[38;5;28;01mif\u001b[39;00m saved_model_convert_result:\n\u001b[0;32m   1375\u001b[0m   \u001b[38;5;28;01mreturn\u001b[39;00m saved_model_convert_result\n\u001b[0;32m   1377\u001b[0m graph_def, input_tensors, output_tensors, frozen_func \u001b[38;5;241m=\u001b[39m (\n\u001b[1;32m-> 1378\u001b[0m     \u001b[38;5;28;43mself\u001b[39;49m\u001b[38;5;241;43m.\u001b[39;49m\u001b[43m_freeze_keras_model\u001b[49m\u001b[43m(\u001b[49m\u001b[43m)\u001b[49m)\n\u001b[0;32m   1380\u001b[0m graph_def \u001b[38;5;241m=\u001b[39m \u001b[38;5;28mself\u001b[39m\u001b[38;5;241m.\u001b[39m_optimize_tf_model(graph_def, input_tensors,\n\u001b[0;32m   1381\u001b[0m                                     output_tensors, frozen_func)\n\u001b[0;32m   1383\u001b[0m \u001b[38;5;28;01mreturn\u001b[39;00m \u001b[38;5;28msuper\u001b[39m(TFLiteKerasModelConverterV2,\n\u001b[0;32m   1384\u001b[0m              \u001b[38;5;28mself\u001b[39m)\u001b[38;5;241m.\u001b[39mconvert(graph_def, input_tensors, output_tensors)\n",
      "File \u001b[1;32m~\\AppData\\Local\\Programs\\Python\\Python310\\lib\\site-packages\\tensorflow\\lite\\python\\convert_phase.py:215\u001b[0m, in \u001b[0;36mconvert_phase.<locals>.actual_decorator.<locals>.wrapper\u001b[1;34m(*args, **kwargs)\u001b[0m\n\u001b[0;32m    213\u001b[0m \u001b[38;5;28;01mexcept\u001b[39;00m \u001b[38;5;167;01mException\u001b[39;00m \u001b[38;5;28;01mas\u001b[39;00m error:\n\u001b[0;32m    214\u001b[0m   report_error_message(\u001b[38;5;28mstr\u001b[39m(error))\n\u001b[1;32m--> 215\u001b[0m   \u001b[38;5;28;01mraise\u001b[39;00m error \u001b[38;5;28;01mfrom\u001b[39;00m \u001b[38;5;28;01mNone\u001b[39;00m\n",
      "File \u001b[1;32m~\\AppData\\Local\\Programs\\Python\\Python310\\lib\\site-packages\\tensorflow\\lite\\python\\convert_phase.py:205\u001b[0m, in \u001b[0;36mconvert_phase.<locals>.actual_decorator.<locals>.wrapper\u001b[1;34m(*args, **kwargs)\u001b[0m\n\u001b[0;32m    202\u001b[0m \u001b[38;5;129m@functools\u001b[39m\u001b[38;5;241m.\u001b[39mwraps(func)\n\u001b[0;32m    203\u001b[0m \u001b[38;5;28;01mdef\u001b[39;00m \u001b[38;5;21mwrapper\u001b[39m(\u001b[38;5;241m*\u001b[39margs, \u001b[38;5;241m*\u001b[39m\u001b[38;5;241m*\u001b[39mkwargs):\n\u001b[0;32m    204\u001b[0m   \u001b[38;5;28;01mtry\u001b[39;00m:\n\u001b[1;32m--> 205\u001b[0m     \u001b[38;5;28;01mreturn\u001b[39;00m func(\u001b[38;5;241m*\u001b[39margs, \u001b[38;5;241m*\u001b[39m\u001b[38;5;241m*\u001b[39mkwargs)\n\u001b[0;32m    206\u001b[0m   \u001b[38;5;28;01mexcept\u001b[39;00m ConverterError \u001b[38;5;28;01mas\u001b[39;00m converter_error:\n\u001b[0;32m    207\u001b[0m     \u001b[38;5;28;01mif\u001b[39;00m converter_error\u001b[38;5;241m.\u001b[39merrors:\n",
      "File \u001b[1;32m~\\AppData\\Local\\Programs\\Python\\Python310\\lib\\site-packages\\tensorflow\\lite\\python\\lite.py:1321\u001b[0m, in \u001b[0;36mTFLiteKerasModelConverterV2._freeze_keras_model\u001b[1;34m(self)\u001b[0m\n\u001b[0;32m   1315\u001b[0m input_signature \u001b[38;5;241m=\u001b[39m \u001b[38;5;28;01mNone\u001b[39;00m\n\u001b[0;32m   1316\u001b[0m \u001b[38;5;66;03m# If the model's call is not a `tf.function`, then we need to first get its\u001b[39;00m\n\u001b[0;32m   1317\u001b[0m \u001b[38;5;66;03m# input signature from `model_input_signature` method. We can't directly\u001b[39;00m\n\u001b[0;32m   1318\u001b[0m \u001b[38;5;66;03m# call `trace_model_call` because otherwise the batch dimension is set\u001b[39;00m\n\u001b[0;32m   1319\u001b[0m \u001b[38;5;66;03m# to None.\u001b[39;00m\n\u001b[0;32m   1320\u001b[0m \u001b[38;5;66;03m# Once we have better support for dynamic shapes, we can remove this.\u001b[39;00m\n\u001b[1;32m-> 1321\u001b[0m \u001b[38;5;28;01mif\u001b[39;00m \u001b[38;5;129;01mnot\u001b[39;00m \u001b[38;5;28misinstance\u001b[39m(\u001b[38;5;28;43mself\u001b[39;49m\u001b[38;5;241;43m.\u001b[39;49m\u001b[43m_keras_model\u001b[49m\u001b[38;5;241;43m.\u001b[39;49m\u001b[43mcall\u001b[49m, _def_function\u001b[38;5;241m.\u001b[39mFunction):\n\u001b[0;32m   1322\u001b[0m   \u001b[38;5;66;03m# Pass `keep_original_batch_size=True` will ensure that we get an input\u001b[39;00m\n\u001b[0;32m   1323\u001b[0m   \u001b[38;5;66;03m# signature including the batch dimension specified by the user.\u001b[39;00m\n\u001b[0;32m   1324\u001b[0m   \u001b[38;5;66;03m# TODO(b/169898786): Use the Keras public API when TFLite moves out of TF\u001b[39;00m\n\u001b[0;32m   1325\u001b[0m   input_signature \u001b[38;5;241m=\u001b[39m _model_input_signature(\n\u001b[0;32m   1326\u001b[0m       \u001b[38;5;28mself\u001b[39m\u001b[38;5;241m.\u001b[39m_keras_model, keep_original_batch_size\u001b[38;5;241m=\u001b[39m\u001b[38;5;28;01mTrue\u001b[39;00m)\n\u001b[0;32m   1328\u001b[0m \u001b[38;5;66;03m# TODO(b/169898786): Use the Keras public API when TFLite moves out of TF\u001b[39;00m\n",
      "\u001b[1;31mAttributeError\u001b[0m: 'KMeans' object has no attribute 'call'"
     ]
    }
   ],
   "source": [
    "# Convert K-Means model to TFLite\n",
    "kmeans_model = kmeans\n",
    "converter = tf.lite.TFLiteConverter.from_keras_model(kmeans_model)\n",
    "tflite_model = converter.convert()\n",
    "\n",
    "# Save the TFLite model to a file\n",
    "with open('kmeans_model.tflite', 'wb') as f:\n",
    "    f.write(tflite_model)"
   ]
  },
  {
   "cell_type": "code",
   "execution_count": 11,
   "id": "05363343",
   "metadata": {},
   "outputs": [],
   "source": [
    "import joblib\n",
    "\n",
    "# Save the K-Means model\n",
    "joblib.dump(kmeans, 'kmeans_model.joblib')\n",
    "\n",
    "# Load the K-Means model when needed\n",
    "kmeans = joblib.load('kmeans_model.joblib')\n"
   ]
  },
  {
   "cell_type": "code",
   "execution_count": null,
   "id": "f2036b47",
   "metadata": {},
   "outputs": [],
   "source": []
  }
 ],
 "metadata": {
  "kernelspec": {
   "display_name": "Python 3 (ipykernel)",
   "language": "python",
   "name": "python3"
  },
  "language_info": {
   "codemirror_mode": {
    "name": "ipython",
    "version": 3
   },
   "file_extension": ".py",
   "mimetype": "text/x-python",
   "name": "python",
   "nbconvert_exporter": "python",
   "pygments_lexer": "ipython3",
   "version": "3.10.6"
  }
 },
 "nbformat": 4,
 "nbformat_minor": 5
}
