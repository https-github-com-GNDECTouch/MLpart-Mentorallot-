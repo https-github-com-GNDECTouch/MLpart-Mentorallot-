{
 "cells": [
  {
   "cell_type": "code",
   "execution_count": 7,
   "id": "7f2a2029",
   "metadata": {},
   "outputs": [],
   "source": [
    "import pandas as pd\n",
    "from sklearn.cluster import KMeans\n",
    "import tensorflow as tf\n",
    "import numpy as np\n",
    "import joblib"
   ]
  },
  {
   "cell_type": "code",
   "execution_count": 8,
   "id": "f9b1ca04",
   "metadata": {},
   "outputs": [],
   "source": [
    "# Load student and teacher data from CSV files\n",
    "students_df = pd.read_csv('students.csv')\n",
    "teachers_df = pd.read_csv('teachers.csv')"
   ]
  },
  {
   "cell_type": "code",
   "execution_count": 9,
   "id": "235137fb",
   "metadata": {},
   "outputs": [],
   "source": [
    "# Combine interests and CGPA into a single feature vector for clustering\n",
    "student_features = students_df[['CGPA']].values"
   ]
  },
  {
   "cell_type": "code",
   "execution_count": 10,
   "id": "d1854d68",
   "metadata": {},
   "outputs": [],
   "source": [
    "# Define the number of clusters (teachers)\n",
    "num_clusters = len(teachers_df)"
   ]
  },
  {
   "cell_type": "code",
   "execution_count": 11,
   "id": "037cd4c7",
   "metadata": {},
   "outputs": [],
   "source": [
    "# Create a KMeans clustering model\n",
    "kmeans = KMeans(n_clusters=num_clusters, n_init=10, random_state=0).fit(student_features)"
   ]
  },
  {
   "cell_type": "code",
   "execution_count": 12,
   "id": "20417b00",
   "metadata": {},
   "outputs": [
    {
     "data": {
      "text/plain": [
       "['kmeans_model.pkl']"
      ]
     },
     "execution_count": 12,
     "metadata": {},
     "output_type": "execute_result"
    }
   ],
   "source": [
    "# Save the KMeans model to a file\n",
    "joblib.dump(kmeans, 'kmeans_model.pkl')"
   ]
  },
  {
   "cell_type": "code",
   "execution_count": 13,
   "id": "df2c6b56",
   "metadata": {},
   "outputs": [],
   "source": [
    "# Assign each student to a cluster (teacher)\n",
    "students_df['Cluster'] = kmeans.labels_"
   ]
  },
  {
   "cell_type": "code",
   "execution_count": 14,
   "id": "8cc88692",
   "metadata": {},
   "outputs": [],
   "source": [
    "# Initialize teacher assignments\n",
    "teacher_assignments = {teacher: [] for teacher in teachers_df['Teacher_name']}"
   ]
  },
  {
   "cell_type": "code",
   "execution_count": 15,
   "id": "94127b5a",
   "metadata": {},
   "outputs": [],
   "source": [
    "# Iterate through students and assign them to the nearest matching teacher\n",
    "for _, student in students_df.iterrows():\n",
    "    cluster_label = student['Cluster']\n",
    "    teacher_name = teachers_df.iloc[cluster_label]['Teacher_name']\n",
    "    student_name = student['Student_name']\n",
    "    cgpa = student['CGPA']\n",
    "    teacher_assignments[teacher_name].append((student_name, cgpa))"
   ]
  },
  {
   "cell_type": "code",
   "execution_count": 16,
   "id": "34882890",
   "metadata": {},
   "outputs": [
    {
     "name": "stdout",
     "output_type": "stream",
     "text": [
      "Teacher: Pankaj\n",
      "  Student: Olivia Bennett, CGPA: 9.4\n",
      "  Student: Liam Anderson, CGPA: 9.2\n",
      "  Student: Emma Parker, CGPA: 9.5\n",
      "  Student: Noah Harrison, CGPA: 9.6\n",
      "  Student: Elijah Brooks, CGPA: 9.4\n",
      "  Student: Scarlett Adams, CGPA: 9.4\n",
      "Teacher: Amit\n",
      "  Student: Aiden Carter, CGPA: 7.0\n",
      "  Student: Jackson Walker, CGPA: 7.2\n",
      "  Student: Abigail Simmons, CGPA: 7.3\n",
      "  Student: Evelyn Taylor, CGPA: 7.2\n",
      "  Student: Chloe Moore, CGPA: 7.6\n",
      "Teacher: Akshay\n",
      "  Student: Ava Mitchell, CGPA: 8.0\n",
      "  Student: Ethan Turner, CGPA: 8.4\n",
      "  Student: Sophia Jenkins, CGPA: 8.2\n",
      "  Student: Mason Foster, CGPA: 8.1\n",
      "  Student: Oliver Rivera, CGPA: 8.2\n",
      "  Student: Harper Gray, CGPA: 8.3\n",
      "  Student: Samuel Davis, CGPA: 7.9\n",
      "  Student: Lily Johnson, CGPA: 8.1\n",
      "  Student: Daniel Robinson, CGPA: 7.8\n",
      "Teacher: Sachin\n",
      "  Student: Mia Nelson, CGPA: 6.5\n",
      "  Student: Lucas Cooper, CGPA: 6.3\n",
      "  Student: Charlotte Hayes, CGPA: 6.2\n",
      "  Student: Caleb Smith, CGPA: 6.3\n",
      "  Student: Henry Martinez, CGPA: 6.7\n",
      "Teacher: Ranjodh\n",
      "  Student: Isabella Murphy, CGPA: 9.0\n",
      "  Student: Amelia Reed, CGPA: 8.8\n",
      "  Student: Benjamin Wright, CGPA: 8.6\n",
      "  Student: Grace White, CGPA: 9.1\n",
      "  Student: Logan Harris, CGPA: 9.0\n"
     ]
    }
   ],
   "source": [
    "# Print the assignments with teacher name, student name, and CGPA\n",
    "for teacher, students in teacher_assignments.items():\n",
    "    print(f\"Teacher: {teacher}\")\n",
    "    for student, cgpa in students:\n",
    "        print(f\"  Student: {student}, CGPA: {cgpa}\")"
   ]
  },
  {
   "cell_type": "code",
   "execution_count": 17,
   "id": "b386b71b",
   "metadata": {},
   "outputs": [],
   "source": [
    "# Convert the KMeans model to TensorFlow Lite\n",
    "kmeans_model = tf.keras.models.Sequential([\n",
    "    tf.keras.layers.Input(shape=(student_features.shape[1],)),\n",
    "    tf.keras.layers.Dense(num_clusters, activation='softmax')\n",
    "])"
   ]
  },
  {
   "cell_type": "code",
   "execution_count": 18,
   "id": "8f9e11b0",
   "metadata": {},
   "outputs": [
    {
     "name": "stdout",
     "output_type": "stream",
     "text": [
      "Epoch 1/10\n",
      "1/1 [==============================] - 0s 429ms/step - loss: 4.9167\n",
      "Epoch 2/10\n",
      "1/1 [==============================] - 0s 12ms/step - loss: 4.9065\n",
      "Epoch 3/10\n",
      "1/1 [==============================] - 0s 10ms/step - loss: 4.8965\n",
      "Epoch 4/10\n",
      "1/1 [==============================] - 0s 16ms/step - loss: 4.8864\n",
      "Epoch 5/10\n",
      "1/1 [==============================] - 0s 17ms/step - loss: 4.8765\n",
      "Epoch 6/10\n",
      "1/1 [==============================] - 0s 19ms/step - loss: 4.8666\n",
      "Epoch 7/10\n",
      "1/1 [==============================] - 0s 19ms/step - loss: 4.8568\n",
      "Epoch 8/10\n",
      "1/1 [==============================] - 0s 19ms/step - loss: 4.8471\n",
      "Epoch 9/10\n",
      "1/1 [==============================] - 0s 8ms/step - loss: 4.8374\n",
      "Epoch 10/10\n",
      "1/1 [==============================] - 0s 8ms/step - loss: 4.8278\n"
     ]
    },
    {
     "data": {
      "text/plain": [
       "<keras.callbacks.History at 0x1328f719300>"
      ]
     },
     "execution_count": 18,
     "metadata": {},
     "output_type": "execute_result"
    }
   ],
   "source": [
    "kmeans_model.compile(optimizer='adam', loss='sparse_categorical_crossentropy')\n",
    "kmeans_model.fit(student_features, kmeans.labels_, epochs=10)"
   ]
  },
  {
   "cell_type": "code",
   "execution_count": 19,
   "id": "d9905a59",
   "metadata": {},
   "outputs": [
    {
     "name": "stderr",
     "output_type": "stream",
     "text": [
      "WARNING:absl:Found untraced functions such as _update_step_xla while saving (showing 1 of 1). These functions will not be directly callable after loading.\n"
     ]
    },
    {
     "name": "stdout",
     "output_type": "stream",
     "text": [
      "INFO:tensorflow:Assets written to: C:\\Users\\itars\\AppData\\Local\\Temp\\tmpfffrjkrd\\assets\n"
     ]
    },
    {
     "name": "stderr",
     "output_type": "stream",
     "text": [
      "INFO:tensorflow:Assets written to: C:\\Users\\itars\\AppData\\Local\\Temp\\tmpfffrjkrd\\assets\n"
     ]
    }
   ],
   "source": [
    "# Convert the KMeans model to TensorFlow Lite\n",
    "converter = tf.lite.TFLiteConverter.from_keras_model(kmeans_model)\n",
    "tflite_model = converter.convert()\n",
    "\n",
    "# Save the TensorFlow Lite model to a file\n",
    "with open('student_clustering_model.tflite', 'wb') as f:\n",
    "    f.write(tflite_model)\n"
   ]
  },
  {
   "cell_type": "code",
   "execution_count": null,
   "id": "ea6569b6",
   "metadata": {},
   "outputs": [],
   "source": []
  }
 ],
 "metadata": {
  "kernelspec": {
   "display_name": "Python 3 (ipykernel)",
   "language": "python",
   "name": "python3"
  },
  "language_info": {
   "codemirror_mode": {
    "name": "ipython",
    "version": 3
   },
   "file_extension": ".py",
   "mimetype": "text/x-python",
   "name": "python",
   "nbconvert_exporter": "python",
   "pygments_lexer": "ipython3",
   "version": "3.10.6"
  }
 },
 "nbformat": 4,
 "nbformat_minor": 5
}
