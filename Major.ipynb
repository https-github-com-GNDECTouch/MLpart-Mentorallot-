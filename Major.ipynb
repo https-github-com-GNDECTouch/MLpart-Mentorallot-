{
 "cells": [
  {
   "cell_type": "code",
   "execution_count": 21,
   "id": "e64dd565",
   "metadata": {},
   "outputs": [],
   "source": [
    "import pandas as pd"
   ]
  },
  {
   "cell_type": "code",
   "execution_count": 22,
   "id": "99acc252",
   "metadata": {},
   "outputs": [],
   "source": [
    "# Load student and teacher data from CSV files\n",
    "students_df = pd.read_csv('students.csv')\n",
    "teachers_df = pd.read_csv('teachers.csv')"
   ]
  },
  {
   "cell_type": "code",
   "execution_count": 23,
   "id": "b41c8415",
   "metadata": {},
   "outputs": [],
   "source": [
    "# Define a function to assign students to teachers\n",
    "def assign_students_to_teachers(students_df, teachers_df):\n",
    "    # Create a dictionary to store students assigned to each teacher\n",
    "    teacher_assignments = {teacher: [] for teacher in teachers_df['Teacher_name']}\n",
    "\n",
    "    # Sort students by CGPA in descending order\n",
    "    students_df = students_df.sort_values(by='CGPA', ascending=False)\n",
    "\n",
    "    # Iterate through students\n",
    "    for _, student in students_df.iterrows():\n",
    "        # Get the student's interests\n",
    "        student_interests = set(student['Interests'].split(', '))\n",
    "\n",
    "        # Iterate through teachers\n",
    "        for _, teacher in teachers_df.iterrows():\n",
    "            # Get the teacher's interests\n",
    "            teacher_interests = set(teacher['fields'].split(', '))\n",
    "\n",
    "            # Find common interests between the student and teacher\n",
    "            common_interests = student_interests.intersection(teacher_interests)\n",
    "\n",
    "            # Check if the teacher has not reached the desired number of students\n",
    "            if len(teacher_assignments[teacher['Teacher_name']]) < 30 / 5:\n",
    "                # Assign the student to the teacher\n",
    "                teacher_assignments[teacher['Teacher_name']].append(student['Student_name'])\n",
    "                break\n",
    "            # If the teacher has enough students, try the next teacher with common interests\n",
    "            elif common_interests:\n",
    "                continue\n",
    "            # If no common interests, assign the student to the teacher with the fewest students\n",
    "            else:\n",
    "                min_teacher = min(teacher_assignments, key=lambda k: len(teacher_assignments[k]))\n",
    "                teacher_assignments[min_teacher].append(student['Student_name'])\n",
    "                break\n",
    "\n",
    "    return teacher_assignments"
   ]
  },
  {
   "cell_type": "code",
   "execution_count": 24,
   "id": "f9f0c572",
   "metadata": {},
   "outputs": [],
   "source": [
    "# Assign students to teachers\n",
    "teacher_assignments = assign_students_to_teachers(students_df, teachers_df)"
   ]
  },
  {
   "cell_type": "code",
   "execution_count": 25,
   "id": "b1eabb3f",
   "metadata": {},
   "outputs": [
    {
     "name": "stdout",
     "output_type": "stream",
     "text": [
      "Teacher: Pankaj, Assigned Students: Noah Harrison, Emma Parker, Olivia Bennett, Scarlett Adams, Elijah Brooks, Liam Anderson\n",
      "Teacher: Amit, Assigned Students: Grace White, Benjamin Wright, Sophia Jenkins, Samuel Davis, Jackson Walker, Mia Nelson\n",
      "Teacher: Akshay, Assigned Students: Isabella Murphy, Ethan Turner, Mason Foster, Daniel Robinson, Evelyn Taylor, Lucas Cooper\n",
      "Teacher: Sachin, Assigned Students: Logan Harris, Harper Gray, Lily Johnson, Chloe Moore, Aiden Carter, Caleb Smith\n",
      "Teacher: Ranjodh, Assigned Students: Amelia Reed, Oliver Rivera, Ava Mitchell, Abigail Simmons, Henry Martinez, Charlotte Hayes\n"
     ]
    }
   ],
   "source": [
    "# Print the assignments\n",
    "for teacher, students in teacher_assignments.items():\n",
    "    print(f\"Teacher: {teacher}, Assigned Students: {', '.join(students)}\")"
   ]
  },
  {
   "cell_type": "code",
   "execution_count": null,
   "id": "b0099ac3",
   "metadata": {},
   "outputs": [],
   "source": [
    "# after this i have implemented the same thing using k-means clustering."
   ]
  },
  {
   "cell_type": "code",
   "execution_count": 26,
   "id": "1ae3339c",
   "metadata": {},
   "outputs": [],
   "source": [
    "import pandas as pd\n",
    "from sklearn.cluster import KMeans\n",
    "import numpy as np"
   ]
  },
  {
   "cell_type": "code",
   "execution_count": 27,
   "id": "6f48d694",
   "metadata": {},
   "outputs": [],
   "source": [
    "\n",
    "# Load student and teacher data from CSV files\n",
    "students_df = pd.read_csv('students.csv')\n",
    "teachers_df = pd.read_csv('teachers.csv')\n"
   ]
  },
  {
   "cell_type": "code",
   "execution_count": 28,
   "id": "97f78d1b",
   "metadata": {},
   "outputs": [],
   "source": [
    "# Combine interests and CGPA into a single feature vector for clustering\n",
    "student_features = students_df[['CGPA']].values"
   ]
  },
  {
   "cell_type": "code",
   "execution_count": 29,
   "id": "e435525c",
   "metadata": {},
   "outputs": [],
   "source": [
    "# Add one-hot encoded interests to the feature vector\n",
    "interests = students_df['Interests'].str.get_dummies(', ')\n",
    "student_features = np.concatenate((student_features, interests), axis=1)"
   ]
  },
  {
   "cell_type": "code",
   "execution_count": 30,
   "id": "fc04da3f",
   "metadata": {},
   "outputs": [],
   "source": [
    "# Define the number of clusters (teachers)\n",
    "num_clusters = len(teachers_df)"
   ]
  },
  {
   "cell_type": "code",
   "execution_count": 31,
   "id": "3595dce3",
   "metadata": {},
   "outputs": [],
   "source": [
    "# Create a KMeans clustering model\n",
    "kmeans = KMeans(n_clusters=num_clusters, n_init=10, random_state=0).fit(student_features)"
   ]
  },
  {
   "cell_type": "code",
   "execution_count": 32,
   "id": "d33e3f39",
   "metadata": {},
   "outputs": [],
   "source": [
    "# Assign each student to a cluster (teacher)\n",
    "students_df['Cluster'] = kmeans.labels_"
   ]
  },
  {
   "cell_type": "code",
   "execution_count": 33,
   "id": "beba1e50",
   "metadata": {},
   "outputs": [],
   "source": [
    "# Initialize teacher assignments\n",
    "teacher_assignments = {teacher: [] for teacher in teachers_df['Teacher_name']}"
   ]
  },
  {
   "cell_type": "code",
   "execution_count": 34,
   "id": "45e59d2b",
   "metadata": {},
   "outputs": [],
   "source": [
    "# Iterate through students and assign them to the nearest matching teacher\n",
    "for _, student in students_df.iterrows():\n",
    "    cluster_label = student['Cluster']\n",
    "    teacher_name = teachers_df.iloc[cluster_label]['Teacher_name']\n",
    "    student_name = student['Student_name']\n",
    "    cgpa = student['CGPA']\n",
    "    teacher_assignments[teacher_name].append((student_name, cgpa))"
   ]
  },
  {
   "cell_type": "code",
   "execution_count": 35,
   "id": "0aaac559",
   "metadata": {},
   "outputs": [
    {
     "name": "stdout",
     "output_type": "stream",
     "text": [
      "Teacher: Pankaj\n",
      "  Student: Emma Parker, CGPA: 9.5\n",
      "  Student: Harper Gray, CGPA: 8.3\n",
      "  Student: Elijah Brooks, CGPA: 9.4\n",
      "  Student: Lily Johnson, CGPA: 8.1\n",
      "  Student: Daniel Robinson, CGPA: 7.8\n",
      "Teacher: Amit\n",
      "  Student: Ava Mitchell, CGPA: 8.0\n",
      "  Student: Jackson Walker, CGPA: 7.2\n",
      "  Student: Henry Martinez, CGPA: 6.7\n",
      "  Student: Logan Harris, CGPA: 9.0\n",
      "Teacher: Akshay\n",
      "  Student: Mia Nelson, CGPA: 6.5\n",
      "  Student: Lucas Cooper, CGPA: 6.3\n",
      "  Student: Charlotte Hayes, CGPA: 6.2\n",
      "  Student: Amelia Reed, CGPA: 8.8\n",
      "  Student: Caleb Smith, CGPA: 6.3\n",
      "  Student: Grace White, CGPA: 9.1\n",
      "Teacher: Sachin\n",
      "  Student: Aiden Carter, CGPA: 7.0\n",
      "  Student: Abigail Simmons, CGPA: 7.3\n",
      "  Student: Evelyn Taylor, CGPA: 7.2\n",
      "  Student: Chloe Moore, CGPA: 7.6\n",
      "Teacher: Ranjodh\n",
      "  Student: Olivia Bennett, CGPA: 9.4\n",
      "  Student: Liam Anderson, CGPA: 9.2\n",
      "  Student: Noah Harrison, CGPA: 9.6\n",
      "  Student: Ethan Turner, CGPA: 8.4\n",
      "  Student: Sophia Jenkins, CGPA: 8.2\n",
      "  Student: Mason Foster, CGPA: 8.1\n",
      "  Student: Isabella Murphy, CGPA: 9.0\n",
      "  Student: Oliver Rivera, CGPA: 8.2\n",
      "  Student: Benjamin Wright, CGPA: 8.6\n",
      "  Student: Scarlett Adams, CGPA: 9.4\n",
      "  Student: Samuel Davis, CGPA: 7.9\n"
     ]
    }
   ],
   "source": [
    "# Print the assignments with teacher name, student name, and CGPA\n",
    "for teacher, students in teacher_assignments.items():\n",
    "    print(f\"Teacher: {teacher}\")\n",
    "    for student, cgpa in students:\n",
    "        print(f\"  Student: {student}, CGPA: {cgpa}\")"
   ]
  },
  {
   "cell_type": "code",
   "execution_count": null,
   "id": "4adaa705",
   "metadata": {},
   "outputs": [],
   "source": []
  }
 ],
 "metadata": {
  "kernelspec": {
   "display_name": "Python 3 (ipykernel)",
   "language": "python",
   "name": "python3"
  },
  "language_info": {
   "codemirror_mode": {
    "name": "ipython",
    "version": 3
   },
   "file_extension": ".py",
   "mimetype": "text/x-python",
   "name": "python",
   "nbconvert_exporter": "python",
   "pygments_lexer": "ipython3",
   "version": "3.10.6"
  }
 },
 "nbformat": 4,
 "nbformat_minor": 5
}
